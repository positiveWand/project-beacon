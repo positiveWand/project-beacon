{
 "cells": [
  {
   "cell_type": "code",
   "execution_count": 1,
   "metadata": {},
   "outputs": [
    {
     "data": {
      "text/plain": [
       "48"
      ]
     },
     "execution_count": 1,
     "metadata": {},
     "output_type": "execute_result"
    }
   ],
   "source": [
    "feature_list = [\n",
    "    'LANTERN_STATUS', 'RACON_STATUS', 'BATTERY_STATUS', 'CHARGER_STATUS', 'SOLAR_STATUS', 'DATALOGGER_STATUS', 'SPARE_STATUS', 'MAIN_VOLT_STATUS',\n",
    "    'SUB_VOLT_STATUS', 'SOLAR_VOLT_STATUS', 'WIND_VOLT_STATUS', 'WAVE_VOLT_STATUS', 'CHARGER_VOLT_STATUS', 'BATTERY_VOLT_STATUS', 'SPARE_VOLT_STATUS',\n",
    "    'AIS_CURR_STATUS', 'LANTERN_CURR_STATUS', 'DATALOGGER_CURR_STATUS', 'SPARE_CURR_STATUS', 'WIND_SPEED_STATUS', 'WIND_DIRECT_STATUS', 'AIR_TEMPER_STATUS',\n",
    "    'HUMIDITY_STATUS', 'DEW_POINT_STATUS', 'AIR_PRESSURE_STATUS', 'HORIZON_VISIBL_STATUS', 'WATER_LEVEL_STATUS', 'CURRENT1_STATUS', 'CURRENT2_STATUS',\n",
    "    'CURRENT3_STATUS', 'WAVE_HEIGHT_STATUS', 'WAVE_DRC_STATUS', 'SWELL_HEIGHT_STATUS', 'SWELL_DRC_STATUS', 'WATER_TEMPER_STATUS', 'PRECIPI_TYPE_STATUS',\n",
    "    'SALINITY_STATUS', 'ICE_STATUS', 'HEAT_PROSTR_STATUS', 'HELIOGRAPH_STATUS', 'OXYGEN_STATUS', 'OXYGEN_SATUR_STATUS', 'PH_STATUS', 'CHLOROPHYLL_STATUS',\n",
    "    'MUDDINESS_STATUS', 'PRECIPI_STATUS', 'CHARGER_CURR_STATUS', 'DISCHARGER_CURR_STATUS'\n",
    "]\n",
    "\n",
    "len(feature_list)"
   ]
  },
  {
   "cell_type": "code",
   "execution_count": 8,
   "metadata": {},
   "outputs": [
    {
     "name": "stdout",
     "output_type": "stream",
     "text": [
      "\"lantern_status\": 0,\n",
      "\"racon_status\": 0,\n",
      "\"battery_status\": 0,\n",
      "\"charger_status\": 0,\n",
      "\"solar_status\": 0,\n",
      "\"datalogger_status\": 0,\n",
      "\"spare_status\": 0,\n",
      "\"main_volt_status\": 0,\n",
      "\"sub_volt_status\": 0,\n",
      "\"solar_volt_status\": 0,\n",
      "\"wind_volt_status\": 0,\n",
      "\"wave_volt_status\": 0,\n",
      "\"charger_volt_status\": 0,\n",
      "\"battery_volt_status\": 0,\n",
      "\"spare_volt_status\": 0,\n",
      "\"ais_curr_status\": 0,\n",
      "\"lantern_curr_status\": 0,\n",
      "\"datalogger_curr_status\": 0,\n",
      "\"spare_curr_status\": 0,\n",
      "\"wind_speed_status\": 0,\n",
      "\"wind_direct_status\": 0,\n",
      "\"air_temper_status\": 0,\n",
      "\"humidity_status\": 0,\n",
      "\"dew_point_status\": 0,\n",
      "\"air_pressure_status\": 0,\n",
      "\"horizon_visibl_status\": 0,\n",
      "\"water_level_status\": 0,\n",
      "\"current1_status\": 0,\n",
      "\"current2_status\": 0,\n",
      "\"current3_status\": 0,\n",
      "\"wave_height_status\": 0,\n",
      "\"wave_drc_status\": 0,\n",
      "\"swell_height_status\": 0,\n",
      "\"swell_drc_status\": 0,\n",
      "\"water_temper_status\": 0,\n",
      "\"precipi_type_status\": 0,\n",
      "\"salinity_status\": 0,\n",
      "\"ice_status\": 0,\n",
      "\"heat_prostr_status\": 0,\n",
      "\"heliograph_status\": 0,\n",
      "\"oxygen_status\": 0,\n",
      "\"oxygen_satur_status\": 0,\n",
      "\"ph_status\": 0,\n",
      "\"chlorophyll_status\": 0,\n",
      "\"muddiness_status\": 0,\n",
      "\"precipi_status\": 0,\n",
      "\"charger_curr_status\": 0,\n",
      "\"discharger_curr_status\": 0,\n"
     ]
    }
   ],
   "source": [
    "new = []\n",
    "for feature in feature_list:\n",
    "    new.append(feature.lower())\n",
    "    print('\"'+feature.lower()+'\": 0,')"
   ]
  },
  {
   "cell_type": "code",
   "execution_count": 5,
   "metadata": {},
   "outputs": [
    {
     "data": {
      "text/plain": [
       "['lantern_status',\n",
       " 'racon_status',\n",
       " 'battery_status',\n",
       " 'charger_status',\n",
       " 'solar_status',\n",
       " 'datalogger_status',\n",
       " 'spare_status',\n",
       " 'main_volt_status',\n",
       " 'sub_volt_status',\n",
       " 'solar_volt_status',\n",
       " 'wind_volt_status',\n",
       " 'wave_volt_status',\n",
       " 'charger_volt_status',\n",
       " 'battery_volt_status',\n",
       " 'spare_volt_status',\n",
       " 'ais_curr_status',\n",
       " 'lantern_curr_status',\n",
       " 'datalogger_curr_status',\n",
       " 'spare_curr_status',\n",
       " 'wind_speed_status',\n",
       " 'wind_direct_status',\n",
       " 'air_temper_status',\n",
       " 'humidity_status',\n",
       " 'dew_point_status',\n",
       " 'air_pressure_status',\n",
       " 'horizon_visibl_status',\n",
       " 'water_level_status',\n",
       " 'current1_status',\n",
       " 'current2_status',\n",
       " 'current3_status',\n",
       " 'wave_height_status',\n",
       " 'wave_drc_status',\n",
       " 'swell_height_status',\n",
       " 'swell_drc_status',\n",
       " 'water_temper_status',\n",
       " 'precipi_type_status',\n",
       " 'salinity_status',\n",
       " 'ice_status',\n",
       " 'heat_prostr_status',\n",
       " 'heliograph_status',\n",
       " 'oxygen_status',\n",
       " 'oxygen_satur_status',\n",
       " 'ph_status',\n",
       " 'chlorophyll_status',\n",
       " 'muddiness_status',\n",
       " 'precipi_status',\n",
       " 'charger_curr_status',\n",
       " 'discharger_curr_status']"
      ]
     },
     "execution_count": 5,
     "metadata": {},
     "output_type": "execute_result"
    }
   ],
   "source": [
    "new"
   ]
  },
  {
   "cell_type": "code",
   "execution_count": null,
   "metadata": {},
   "outputs": [],
   "source": []
  }
 ],
 "metadata": {
  "kernelspec": {
   "display_name": "Python 3",
   "language": "python",
   "name": "python3"
  },
  "language_info": {
   "codemirror_mode": {
    "name": "ipython",
    "version": 3
   },
   "file_extension": ".py",
   "mimetype": "text/x-python",
   "name": "python",
   "nbconvert_exporter": "python",
   "pygments_lexer": "ipython3",
   "version": "3.11.5"
  }
 },
 "nbformat": 4,
 "nbformat_minor": 2
}
